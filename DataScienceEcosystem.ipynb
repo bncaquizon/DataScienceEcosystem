{
 "cells": [
  {
   "cell_type": "markdown",
   "id": "1485c194-2a69-45d4-be8b-6c34ccf709ca",
   "metadata": {},
   "source": [
    "# Data Science Tools and Ecosystem"
   ]
  },
  {
   "cell_type": "markdown",
   "id": "026d5120-f8db-4b5e-870c-a4c263354548",
   "metadata": {},
   "source": [
    "In this notebook, Data Science Tools and Ecosystem are summarized."
   ]
  },
  {
   "cell_type": "markdown",
   "id": "b8b8b2e1-cd79-4aa6-acb0-cd3c373138f9",
   "metadata": {
    "tags": []
   },
   "source": [
    "**Objectives:**\n",
    "\n",
    "- List popular languages used in Data Science\n",
    "- List of commonly used library of Data Scientist\n",
    "- Working with markdown in Jupyter Notebook\n",
    "- Performing simple arithmethic in Jupyter Notebook"
   ]
  },
  {
   "cell_type": "markdown",
   "id": "922c292f-4dc6-42a1-8188-e03604df535a",
   "metadata": {},
   "source": [
    "Some of the popular languages that Data Scientists use are:\n",
    "1. Python.\n",
    "2. R.\n",
    "3. SQL.\n",
    "4. Java.\n",
    "5. Julia.\n",
    "6. Scala.\n",
    "7. C\n",
    "8. C++."
   ]
  },
  {
   "cell_type": "markdown",
   "id": "5944a076-91d1-44e8-9096-0c2823ab7ea7",
   "metadata": {},
   "source": [
    "Some of the commonly used libraries used by Data Scientists include:"
   ]
  },
  {
   "cell_type": "markdown",
   "id": "55957026-e371-4e3c-acd4-f59c5b23963f",
   "metadata": {},
   "source": [
    "1. Pandas\n",
    "2. NumPy\n",
    "3. SciPy\n",
    "4. TensorFlow\n",
    "5. Matplotlib\n",
    "6. Keras\n",
    "7. PyTorch\n",
    "8. SciKit-Learn\n",
    "9. BeautifulSoup\n",
    "10. Scrapy"
   ]
  },
  {
   "cell_type": "markdown",
   "id": "abaa9b50-33f9-436e-8746-3a4d8fd7cfbd",
   "metadata": {},
   "source": [
    "| Data Science Tools |\n",
    "| ------ |\n",
    "|SAS|\n",
    "|Apache Spark|\n",
    "|BigML|"
   ]
  },
  {
   "cell_type": "markdown",
   "id": "8446b2a3-b5d8-4b45-9be1-106df970d1f1",
   "metadata": {},
   "source": [
    "### Below are a few examples of evaluating arithmetic expressions in Python"
   ]
  },
  {
   "cell_type": "code",
   "execution_count": 1,
   "id": "5f5f27d4-eef0-4142-a156-1f84087c8b28",
   "metadata": {
    "tags": []
   },
   "outputs": [],
   "source": [
    "#This a simple arithmetic expression to multiply then add integers"
   ]
  },
  {
   "cell_type": "code",
   "execution_count": 2,
   "id": "a706c55d-4fae-424c-bf99-c49bd29fd701",
   "metadata": {
    "tags": []
   },
   "outputs": [
    {
     "data": {
      "text/plain": [
       "17"
      ]
     },
     "execution_count": 2,
     "metadata": {},
     "output_type": "execute_result"
    }
   ],
   "source": [
    "(3*4)+5"
   ]
  },
  {
   "cell_type": "code",
   "execution_count": 3,
   "id": "bcd04cba-d37f-4e3f-8c6b-84fa0299353a",
   "metadata": {
    "tags": []
   },
   "outputs": [],
   "source": [
    "#This will convert 200 minutes to hours by diving by 60"
   ]
  },
  {
   "cell_type": "code",
   "execution_count": 4,
   "id": "5b89c38e-df67-4b14-b3d2-72d78e036bc0",
   "metadata": {
    "tags": []
   },
   "outputs": [
    {
     "data": {
      "text/plain": [
       "3.3333333333333335"
      ]
     },
     "execution_count": 4,
     "metadata": {},
     "output_type": "execute_result"
    }
   ],
   "source": [
    "200/60"
   ]
  },
  {
   "cell_type": "markdown",
   "id": "a346971c-699e-476c-be1e-7a22a921fd4d",
   "metadata": {},
   "source": [
    "## Author\n",
    "Bianca Quizon"
   ]
  }
 ],
 "metadata": {
  "kernelspec": {
   "display_name": "Python",
   "language": "python",
   "name": "conda-env-python-py"
  },
  "language_info": {
   "codemirror_mode": {
    "name": "ipython",
    "version": 3
   },
   "file_extension": ".py",
   "mimetype": "text/x-python",
   "name": "python",
   "nbconvert_exporter": "python",
   "pygments_lexer": "ipython3",
   "version": "3.7.12"
  }
 },
 "nbformat": 4,
 "nbformat_minor": 5
}
